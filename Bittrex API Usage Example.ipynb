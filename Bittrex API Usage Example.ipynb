{
 "cells": [
  {
   "cell_type": "markdown",
   "metadata": {},
   "source": [
    "# Bittrex API Usage Example"
   ]
  },
  {
   "cell_type": "code",
   "execution_count": 3,
   "metadata": {},
   "outputs": [],
   "source": [
    "import requests\n",
    "import json"
   ]
  },
  {
   "cell_type": "code",
   "execution_count": 4,
   "metadata": {},
   "outputs": [],
   "source": [
    "response = requests.get(\"https://api.bittrex.com/api/v1.1/public/getmarketsummaries\")\n",
    "js = response.json()\n",
    "markets = {}\n",
    "\n",
    "if js['success']:\n",
    "    for market in js['result']:\n",
    "        markets[market[\"MarketName\"]] = market\n"
   ]
  },
  {
   "cell_type": "code",
   "execution_count": 22,
   "metadata": {},
   "outputs": [
    {
     "name": "stdout",
     "output_type": "stream",
     "text": [
      "BTC-ATOM\n",
      "BTC-NIO\n",
      "USDT-XEM\n",
      "BTC-NFTX\n",
      "USDT-XEP\n",
      "USDT-VANY\n",
      "ETH-ROOK\n",
      "BTC-ALGO\n",
      "BTC-USDS\n",
      "USDT-LINKBULL\n"
     ]
    }
   ],
   "source": [
    "for key in list(markets.keys())[:10]:\n",
    "    market = markets[key][\"MarketName\"]\n",
    "    print(market)"
   ]
  },
  {
   "cell_type": "code",
   "execution_count": 17,
   "metadata": {},
   "outputs": [
    {
     "data": {
      "text/plain": [
       "{'MarketName': 'USDT-BTC',\n",
       " 'High': 30530.3998,\n",
       " 'Low': 28648.99484852,\n",
       " 'Volume': 147.64687748,\n",
       " 'Last': 30286.572,\n",
       " 'BaseVolume': 4348150.53885152,\n",
       " 'TimeStamp': '2022-05-19T18:09:54.367',\n",
       " 'Bid': 30281.2713745,\n",
       " 'Ask': 30291.223,\n",
       " 'OpenBuyOrders': 18927,\n",
       " 'OpenSellOrders': 3043,\n",
       " 'PrevDay': 28945.56715671,\n",
       " 'Created': '2015-12-11T06:31:40.633'}"
      ]
     },
     "execution_count": 17,
     "metadata": {},
     "output_type": "execute_result"
    }
   ],
   "source": [
    "markets['USDT-BTC']"
   ]
  }
 ],
 "metadata": {
  "interpreter": {
   "hash": "00ee12c861f9b90cc1279460c55e0ad8884c25b640a4e109d9a2f7a942f8b24a"
  },
  "kernelspec": {
   "display_name": "Python 3.9.2 64-bit",
   "language": "python",
   "name": "python3"
  },
  "language_info": {
   "codemirror_mode": {
    "name": "ipython",
    "version": 3
   },
   "file_extension": ".py",
   "mimetype": "text/x-python",
   "name": "python",
   "nbconvert_exporter": "python",
   "pygments_lexer": "ipython3",
   "version": "3.9.2"
  }
 },
 "nbformat": 4,
 "nbformat_minor": 2
}
